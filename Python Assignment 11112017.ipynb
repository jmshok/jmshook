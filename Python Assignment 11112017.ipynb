{
 "cells": [
  {
   "cell_type": "code",
   "execution_count": 1,
   "metadata": {
    "collapsed": true
   },
   "outputs": [],
   "source": [
    "from Bio import SeqIO\n",
    "from Bio.Data import CodonTable\n",
    "import pandas as pd\n",
    "from pandas import DataFrame\n",
    "import numpy as np"
   ]
  },
  {
   "cell_type": "code",
   "execution_count": 2,
   "metadata": {
    "collapsed": true
   },
   "outputs": [],
   "source": [
    "%matplotlib inline"
   ]
  },
  {
   "cell_type": "code",
   "execution_count": 3,
   "metadata": {
    "collapsed": true
   },
   "outputs": [],
   "source": [
    "\n",
    "\n",
    "seq='ATCGTCAGTCGATCGATCGCATCATGA'\n",
    "## seq (my own addition) is a sequence for testing string-translate function\n",
    "filename = \"penguins_cytb.fasta\"\n",
    "##sets input file as variable to use in code\n",
    "def get_sequences_from_file(filename):\n",
    "    ##define function of your own creation\n",
    "    sequence_data_dict = {}\n",
    "    ##create empty dictionary\n",
    "    for record in SeqIO.parse(filename, \"fasta\"):\n",
    "    ##reads the FASTA records line by line    \n",
    "        description = record.description.split()\n",
    "        ##splits by gaps\n",
    "        species_name = description[1] + \" \" + description[2]\n",
    "        ##parses first two words and adds them together to get species name\n",
    "        sequence_data_dict[species_name] = record.seq\n",
    "        ##populates dictionary with all records in the file\n",
    "    return(sequence_data_dict)\n",
    "    ##returns the dictionary"
   ]
  },
  {
   "cell_type": "code",
   "execution_count": 4,
   "metadata": {
    "collapsed": true
   },
   "outputs": [],
   "source": [
    "##create penguins.library\n",
    "from Bio import SeqIO\n",
    "fasta_fn = \"penguins_cytb.fasta\"\n",
    "(get_sequences_from_file(fasta_fn))\n",
    "penguin_library = (get_sequences_from_file(fasta_fn))"
   ]
  },
  {
   "cell_type": "code",
   "execution_count": 5,
   "metadata": {
    "collapsed": true
   },
   "outputs": [],
   "source": [
    "cytb_seqs = get_sequences_from_file(\"penguins_cytb.fasta\") \n",
    "penguins_df = pd.read_csv(\"penguins_mass.csv\")\n",
    "species_list = list(penguins_df.species)"
   ]
  },
  {
   "cell_type": "code",
   "execution_count": 16,
   "metadata": {},
   "outputs": [
    {
     "data": {
      "text/plain": [
       "'IVSRSIAS'"
      ]
     },
     "execution_count": 16,
     "metadata": {},
     "output_type": "execute_result"
    }
   ],
   "source": [
    "## 2 ##\n",
    "####### YOUR STRING-TRANSLATE FUNCTION ########\n",
    "## Write a function that translates sequences\n",
    "## All sequences start at codon position 1\n",
    "## Complete a function that translates using a loop over the string of nucleotides\n",
    "## Here is  some pseudo-code and suggestions\n",
    "## feel free to change the function and variable names\n",
    "from Bio.Data import CodonTable\n",
    "\n",
    "mito_table = CodonTable.unambiguous_dna_by_name[\"Vertebrate Mitochondrial\"]\n",
    "\n",
    "def do_translate(string_nucleotides): \n",
    "    mito_table = CodonTable.unambiguous_dna_by_name[\"Vertebrate Mitochondrial\"]\n",
    "    amino_acid = \"\"\n",
    "    for i in range(0, len(string_nucleotides)-3, 3):\n",
    "        codon = string_nucleotides[i:i+3]\n",
    "        aa = mito_table.forward_table[codon]\n",
    "        amino_acid += aa\n",
    "    return  amino_acid\n",
    "\n",
    "do_translate(seq)"
   ]
  },
  {
   "cell_type": "code",
   "execution_count": 7,
   "metadata": {},
   "outputs": [
    {
     "name": "stdout",
     "output_type": "stream",
     "text": [
      "MAPNLRKSHPLLKIINNSLIDLPTPSNISA\n",
      "MAPNLRKSHPLLKIINNSLIDLPTPSNISA\n",
      "MAPNLRKSHPLLKTINNSLIDLPTPSNISA\n",
      "MAPNLRKSHPLLKTINNSLIDLPTPSNISA\n",
      "MAPNLRKSHPLLKTINNSLIDLPTPSNISA\n",
      "MAPNLRKSHPLLKIINNSLIDLPTPSNIST\n",
      "MAPNLRKSHPLLKIINNSLIDLPTPSNISA\n",
      "MAPNLRKSHPLLKIINNSLIDLPTPSNISA\n",
      "MAPNLRKSHPLLKIINKSLIDLPTPPNISA\n",
      "MAPNLRKSHPLLKTINNSLIDLPTPSNISA\n",
      "MAPNLRKSHPLLKTINNSLIDLPTPSNISA\n",
      "MAPNLRKSHPLLKTINNSLIDLPTPSNISA\n"
     ]
    }
   ],
   "source": [
    "from Bio.Seq import Seq\n",
    "from Bio.Seq import translate\n",
    "from Bio.Alphabet import IUPAC\n",
    "for key, value in penguin_library.items():\n",
    "    aa_string = value.translate(to_stop=True)\n",
    "    print(aa_string)"
   ]
  },
  {
   "cell_type": "code",
   "execution_count": 8,
   "metadata": {},
   "outputs": [
    {
     "name": "stdout",
     "output_type": "stream",
     "text": [
      "Molecular weight of Aptenodytes forsteri protein: 3268.8268000000007\n",
      "Molecular weight of Aptenodytes patagonicus protein: 3268.8268000000007\n",
      "Molecular weight of Eudyptes chrysocome protein: 3256.7731000000013\n",
      "Molecular weight of Eudyptes chrysolophus protein: 3256.7731000000013\n",
      "Molecular weight of Eudyptes sclateri protein: 3256.7731000000013\n",
      "Molecular weight of Eudyptula minor protein: 3298.8528000000015\n",
      "Molecular weight of Pygoscelis adeliae protein: 3268.8268000000007\n",
      "Molecular weight of Pygoscelis antarctica protein: 3268.8268000000007\n",
      "Molecular weight of Pygoscelis papua protein: 3292.934400000001\n",
      "Molecular weight of Spheniscus demersus protein: 3256.7731000000013\n",
      "Molecular weight of Spheniscus humboldti protein: 3256.7731000000013\n",
      "Molecular weight of Spheniscus magellanicus protein: 3256.7731000000013\n"
     ]
    }
   ],
   "source": [
    "from Bio.SeqUtils.ProtParam import ProteinAnalysis\n",
    "from Bio import SeqIO\n",
    "from Bio.Alphabet import IUPAC\n",
    "from Bio.SeqUtils import GC\n",
    "for key, value in penguin_library.items():\n",
    "    protein = value.translate(to_stop=True)\n",
    "    protein_string = str(protein)\n",
    "    analysed_seq = ProteinAnalysis(protein_string)\n",
    "    seq_weight = analysed_seq.molecular_weight()\n",
    "    string_weight=str(seq_weight)\n",
    "    print(\"Molecular weight of \"+key+\" protein: \"+string_weight)"
   ]
  },
  {
   "cell_type": "code",
   "execution_count": 9,
   "metadata": {
    "scrolled": true
   },
   "outputs": [
    {
     "name": "stdout",
     "output_type": "stream",
     "text": [
      "GC content of Aptenodytes forsterisequence is 48.20647419072616%\n",
      "\n",
      "GC content of Aptenodytes patagonicussequence is 48.20647419072616%\n",
      "\n",
      "GC content of Eudyptes chrysocomesequence is 48.20647419072616%\n",
      "\n",
      "GC content of Eudyptes chrysolophussequence is 48.20647419072616%\n",
      "\n",
      "GC content of Eudyptes sclaterisequence is 48.20647419072616%\n",
      "\n",
      "GC content of Eudyptula minorsequence is 48.20647419072616%\n",
      "\n",
      "GC content of Pygoscelis adeliaesequence is 48.20647419072616%\n",
      "\n",
      "GC content of Pygoscelis antarcticasequence is 48.20647419072616%\n",
      "\n",
      "GC content of Pygoscelis papuasequence is 48.20647419072616%\n",
      "\n",
      "GC content of Spheniscus demersussequence is 48.20647419072616%\n",
      "\n",
      "GC content of Spheniscus humboldtisequence is 48.20647419072616%\n",
      "\n",
      "GC content of Spheniscus magellanicussequence is 48.20647419072616%\n",
      "\n"
     ]
    }
   ],
   "source": [
    "for key, values in penguin_library.items():\n",
    "    GC_content = GC(value)\n",
    "    GC_string = str(GC_content)\n",
    "    print (\"GC content of \" + key + \"sequence is \" + GC_string + \"%\\n\")"
   ]
  },
  {
   "cell_type": "code",
   "execution_count": 10,
   "metadata": {
    "collapsed": true
   },
   "outputs": [],
   "source": [
    "import pandas as pd\n",
    "import numpy as np\n",
    "penguins_df1 = penguins_df.copy()\n",
    "penguins_df1['molecular_weight']= np.nan\n",
    "penguins_df1['GC_content']= np.nan"
   ]
  },
  {
   "cell_type": "code",
   "execution_count": 11,
   "metadata": {},
   "outputs": [
    {
     "data": {
      "text/html": [
       "<div>\n",
       "<style>\n",
       "    .dataframe thead tr:only-child th {\n",
       "        text-align: right;\n",
       "    }\n",
       "\n",
       "    .dataframe thead th {\n",
       "        text-align: left;\n",
       "    }\n",
       "\n",
       "    .dataframe tbody tr th {\n",
       "        vertical-align: top;\n",
       "    }\n",
       "</style>\n",
       "<table border=\"1\" class=\"dataframe\">\n",
       "  <thead>\n",
       "    <tr style=\"text-align: right;\">\n",
       "      <th></th>\n",
       "      <th>species</th>\n",
       "      <th>mass</th>\n",
       "      <th>molecular_weight</th>\n",
       "      <th>GC_content</th>\n",
       "    </tr>\n",
       "  </thead>\n",
       "  <tbody>\n",
       "    <tr>\n",
       "      <th>0</th>\n",
       "      <td>Aptenodytes forsteri</td>\n",
       "      <td>28.00</td>\n",
       "      <td>3268.8268000000007</td>\n",
       "      <td>48.381452</td>\n",
       "    </tr>\n",
       "    <tr>\n",
       "      <th>1</th>\n",
       "      <td>Aptenodytes patagonicus</td>\n",
       "      <td>13.40</td>\n",
       "      <td>3268.8268000000007</td>\n",
       "      <td>49.693788</td>\n",
       "    </tr>\n",
       "    <tr>\n",
       "      <th>2</th>\n",
       "      <td>Eudyptes chrysocome</td>\n",
       "      <td>2.80</td>\n",
       "      <td>3256.7731000000013</td>\n",
       "      <td>51.181102</td>\n",
       "    </tr>\n",
       "    <tr>\n",
       "      <th>3</th>\n",
       "      <td>Eudyptes chrysolophus</td>\n",
       "      <td>4.50</td>\n",
       "      <td>3256.7731000000013</td>\n",
       "      <td>50.918635</td>\n",
       "    </tr>\n",
       "    <tr>\n",
       "      <th>4</th>\n",
       "      <td>Eudyptes sclateri</td>\n",
       "      <td>4.25</td>\n",
       "      <td>3256.7731000000013</td>\n",
       "      <td>50.831146</td>\n",
       "    </tr>\n",
       "    <tr>\n",
       "      <th>5</th>\n",
       "      <td>Eudyptula minor</td>\n",
       "      <td>1.60</td>\n",
       "      <td>3298.8528000000015</td>\n",
       "      <td>49.256343</td>\n",
       "    </tr>\n",
       "    <tr>\n",
       "      <th>6</th>\n",
       "      <td>Pygoscelis adeliae</td>\n",
       "      <td>4.60</td>\n",
       "      <td>3268.8268000000007</td>\n",
       "      <td>49.081365</td>\n",
       "    </tr>\n",
       "    <tr>\n",
       "      <th>7</th>\n",
       "      <td>Pygoscelis antarctica</td>\n",
       "      <td>4.10</td>\n",
       "      <td>3268.8268000000007</td>\n",
       "      <td>47.769029</td>\n",
       "    </tr>\n",
       "    <tr>\n",
       "      <th>8</th>\n",
       "      <td>Pygoscelis papua</td>\n",
       "      <td>6.10</td>\n",
       "      <td>3292.934400000001</td>\n",
       "      <td>47.156605</td>\n",
       "    </tr>\n",
       "    <tr>\n",
       "      <th>9</th>\n",
       "      <td>Spheniscus demersus</td>\n",
       "      <td>3.20</td>\n",
       "      <td>3256.7731000000013</td>\n",
       "      <td>48.293963</td>\n",
       "    </tr>\n",
       "    <tr>\n",
       "      <th>10</th>\n",
       "      <td>Spheniscus humboldti</td>\n",
       "      <td>4.75</td>\n",
       "      <td>3256.7731000000013</td>\n",
       "      <td>49.256343</td>\n",
       "    </tr>\n",
       "    <tr>\n",
       "      <th>11</th>\n",
       "      <td>Spheniscus magellanicus</td>\n",
       "      <td>3.40</td>\n",
       "      <td>3256.7731000000013</td>\n",
       "      <td>48.206474</td>\n",
       "    </tr>\n",
       "  </tbody>\n",
       "</table>\n",
       "</div>"
      ],
      "text/plain": [
       "                    species   mass    molecular_weight  GC_content\n",
       "0      Aptenodytes forsteri  28.00  3268.8268000000007   48.381452\n",
       "1   Aptenodytes patagonicus  13.40  3268.8268000000007   49.693788\n",
       "2       Eudyptes chrysocome   2.80  3256.7731000000013   51.181102\n",
       "3     Eudyptes chrysolophus   4.50  3256.7731000000013   50.918635\n",
       "4         Eudyptes sclateri   4.25  3256.7731000000013   50.831146\n",
       "5           Eudyptula minor   1.60  3298.8528000000015   49.256343\n",
       "6        Pygoscelis adeliae   4.60  3268.8268000000007   49.081365\n",
       "7     Pygoscelis antarctica   4.10  3268.8268000000007   47.769029\n",
       "8          Pygoscelis papua   6.10   3292.934400000001   47.156605\n",
       "9       Spheniscus demersus   3.20  3256.7731000000013   48.293963\n",
       "10     Spheniscus humboldti   4.75  3256.7731000000013   49.256343\n",
       "11  Spheniscus magellanicus   3.40  3256.7731000000013   48.206474"
      ]
     },
     "execution_count": 11,
     "metadata": {},
     "output_type": "execute_result"
    }
   ],
   "source": [
    "## 7 ##\n",
    "\n",
    "molecular_weight_list = []\n",
    "GC_content_list = []\n",
    "for key, value in penguin_library.items():\n",
    "    aa_seq = value.translate(to_stop=True)\n",
    "    protein_string = str(aa_seq)\n",
    "    analysed_seq = ProteinAnalysis(protein_string)\n",
    "    string_weight = str(analysed_seq.molecular_weight())\n",
    "    molecular_weight_list.append(string_weight)\n",
    "    GC_content = GC(value)\n",
    "    GC_string = str(GC_content)\n",
    "    GC_content_list.append(GC_content)\n",
    "    \n",
    "molecular_weight_array = np.asarray(molecular_weight_list)\n",
    "penguins_df1[\"molecular_weight\"] = pd.Series(molecular_weight_array)\n",
    "GC_content_array = np.asarray(GC_content_list)\n",
    "penguins_df1[\"GC_content\"]= pd.Series(GC_content_array)\n",
    "penguins_df1\n"
   ]
  },
  {
   "cell_type": "code",
   "execution_count": 12,
   "metadata": {},
   "outputs": [
    {
     "data": {
      "text/plain": [
       "[<matplotlib.text.Text at 0x676f159630>,\n",
       " <matplotlib.text.Text at 0x676f13f550>]"
      ]
     },
     "execution_count": 12,
     "metadata": {},
     "output_type": "execute_result"
    },
    {
     "data": {
      "image/png": "[encoded data removed]",
      "text/plain": [
       "<matplotlib.figure.Figure at 0x676d5b0c88>"
      ]
     },
     "metadata": {},
     "output_type": "display_data"
    }
   ],
   "source": [
    "## Plot a bar-chart of the mass with the x-axes labeled with species names.\n",
    "## *Q1* What is the smallest penguin species? \n",
    "## Eudyptula minor\n",
    "## *Q2* What else is interesting about this species?\n",
    "## It's the only species in its genus? They're from NZ/Aus? Gonna need more of an idea of what you're looking for with this question...\n",
    "import matplotlib.pyplot as plt\n",
    "import seaborn as sns\n",
    "#as in class\n",
    "plot_dims=(30,9)\n",
    "#Create barchart using matplotlib and seaborn\n",
    "fig, ax = plt.subplots(figsize=plot_dims)\n",
    "#set x variable as species and y variable as mass\n",
    "sns.barplot(x = 'species', y = 'mass', data=penguins_df)\n",
    "#set labels of chart\n",
    "ax.set(xlabel='Species name', ylabel='Mass')\n"
   ]
  },
  {
   "cell_type": "code",
   "execution_count": 13,
   "metadata": {},
   "outputs": [
    {
     "data": {
      "text/plain": [
       "<seaborn.axisgrid.FacetGrid at 0x676f611978>"
      ]
     },
     "execution_count": 13,
     "metadata": {},
     "output_type": "execute_result"
    },
    {
     "data": {
      "image/png": "[encoded data removed]",
      "text/plain": [
       "<matplotlib.figure.Figure at 0x676f611b00>"
      ]
     },
     "metadata": {},
     "output_type": "display_data"
    }
   ],
   "source": [
    "## Plot a visualization of the molecular weight (y-axis) as a function of GC-content (x-axis).\n",
    "import matplotlib.pyplot as plt\n",
    "import seaborn as sns\n",
    "penguins_df2 = penguins_df1.apply(pd.to_numeric, errors='coerce')\n",
    "sns.lmplot(\"GC_content\", \"molecular_weight\", data=penguins_df2, fit_reg=False)"
   ]
  },
  {
   "cell_type": "code",
   "execution_count": 14,
   "metadata": {
    "collapsed": true
   },
   "outputs": [],
   "source": [
    "penguins_df2.to_csv('penguins_mass_cytb.csv')"
   ]
  }
 ],
 "metadata": {
  "kernelspec": {
   "display_name": "Python 3",
   "language": "python",
   "name": "python3"
  },
  "language_info": {
   "codemirror_mode": {
    "name": "ipython",
    "version": 3
   },
   "file_extension": ".py",
   "mimetype": "text/x-python",
   "name": "python",
   "nbconvert_exporter": "python",
   "pygments_lexer": "ipython3",
   "version": "3.6.2"
  }
 },
 "nbformat": 4,
 "nbformat_minor": 2
}
